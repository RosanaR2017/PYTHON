{
  "nbformat": 4,
  "nbformat_minor": 0,
  "metadata": {
    "colab": {
      "name": "Areas.ipynb",
      "provenance": []
    },
    "kernelspec": {
      "name": "python3",
      "display_name": "Python 3"
    }
  },
  "cells": [
    {
      "cell_type": "markdown",
      "metadata": {
        "id": "sG3vo38prRRL",
        "colab_type": "text"
      },
      "source": [
        "#CÓDIGO PRELIMINAR:"
      ]
    },
    {
      "cell_type": "code",
      "metadata": {
        "id": "uJMzv0cJrKgC",
        "colab_type": "code",
        "colab": {}
      },
      "source": [
        "from math import pi\n",
        "import sys\n",
        "\n",
        "def ErrorPrint():\n",
        "    print(\"Entrada no válida, finaliza el programa\")\n",
        "    sys.exit(1)\n",
        "    \n",
        "def num(n):\n",
        "    while True: \n",
        "        try:\n",
        "            n=int(n)\n",
        "            return n;\n",
        "        except ValueError: \n",
        "            try:\n",
        "                n=float(n) \n",
        "                return n;                    \n",
        "            except ValueError: \n",
        "                ErrorPrint()\n",
        "                break\n",
        "\n",
        "def positivo(n):\n",
        "    if (n>0 and n!=0):\n",
        "        return n;\n",
        "    else:\n",
        "        ErrorPrint();\n",
        "\n",
        "def AreaCircle(radius):\n",
        "    positivo(num(radius))\n",
        "    return str(pi*(radius**2))\n",
        "\n",
        "def AreaRect(base, height):\n",
        "    positivo(num(base*height))\n",
        "    return str(base*height);\n",
        "\n",
        "def main():\n",
        "    areaType=str(input(\"Ingrese el tipo de area a calcular:\")) #Solo circulo o rectangulo\n",
        "\n",
        "    if areaType.casefold() == \"Circulo\".casefold():\n",
        "        radio=positivo(num(input(\"Ingrese radio:\")))\n",
        "        print(\"\\nArea Circulo:{}\".format(AreaCircle(radio)))\n",
        "    elif areaType.casefold() == \"Rectangulo\".casefold():\n",
        "        base, height= input(\"Ingrese base y altura separados por una coma:\").split(\",\")\n",
        "        print(\"\\nArea Rectangulo:{}\".format(AreaRect(positivo(num(base)),positivo(num(height)))))\n",
        "    else:\n",
        "        ErrorPrint()\n",
        "\n",
        "if __name__=='__main__':\n",
        "    main()"
      ],
      "execution_count": null,
      "outputs": []
    },
    {
      "cell_type": "code",
      "metadata": {
        "id": "rSJ6l9K6rNWu",
        "colab_type": "code",
        "colab": {}
      },
      "source": [
        ""
      ],
      "execution_count": null,
      "outputs": []
    }
  ]
}