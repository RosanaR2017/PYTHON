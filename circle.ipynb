{
  "nbformat": 4,
  "nbformat_minor": 0,
  "metadata": {
    "colab": {
      "name": "Circle.ipynb",
      "provenance": [],
      "collapsed_sections": []
    },
    "kernelspec": {
      "name": "python3",
      "display_name": "Python 3"
    }
  },
  "cells": [
    {
      "cell_type": "markdown",
      "metadata": {
        "id": "b_37ASgNGXB9"
      },
      "source": [
        "##Circle\n",
        "Author:Rosana Rodriguez"
      ]
    },
    {
      "cell_type": "code",
      "metadata": {
        "id": "X0wEFYuIGdW8",
        "outputId": "1f0518a9-3a3f-42dd-95f4-f0f2e0991b6c",
        "colab": {
          "base_uri": "https://localhost:8080/",
          "height": 363
        }
      },
      "source": [
        "import sys\n",
        "from math import pi\n",
        "#import pandas as pd Only in case to use csv. files\n",
        "import matplotlib.pyplot as plt\n",
        "import numpy as np\n",
        "\n",
        "\n",
        "def DrawCircle(h,k,x,y,r1):\n",
        " try:\n",
        "    \n",
        "    c1= plt.Circle((x,y),radius=r1, color='blue')\n",
        "    p1= plt.scatter(h,k,color='red')\n",
        "    ax=plt.gca()\n",
        "    ax.add_patch(c1)\n",
        "    plt.axis(\"scaled\")\n",
        "    plt.axis(\"on\")\n",
        "    ax.set_title(\"Circle vs point\")\n",
        "    ax.set_xlabel(\"x\")\n",
        "    ax.set_ylabel(\"y\")\n",
        "    ax.legend([\"Circle vs point\"])\n",
        "    plt.grid()\n",
        "    plt.plot(scalex=True, scaley=True)\n",
        "    plt.show()\n",
        "\n",
        " except ValueError:\n",
        "     print(\"There is a problem plotting the circle and the point\")\n",
        "\n",
        " \"\"\"plt.ylim(-10, 10)\n",
        " plt.xlim(-10, 10)\"\"\"\n",
        "\n",
        " \n",
        "\n",
        " plt.show()\n",
        " \n",
        "\n",
        "\n",
        "def InCircle(h, k, x, y, r1):\n",
        "    if (x-h)**2 + (y-k)**2 <= r1**2:\n",
        "          return True \n",
        "    else:\n",
        "        return False\n",
        "   \n",
        "def main():\n",
        "    try:\n",
        "        x, y =(input(\"Enter x,y cirlce center\\' coordinates separated by a comma: \").split(\",\",2))\n",
        "        h, k =(input(\"Enter h,k cirlce point\\'s coordinates separated by a comma: \").split(\",\",2))\n",
        "        \n",
        "        r1=float(input(\"Enter the 1st circle\\'s radius: \"))\n",
        "        print(InCircle(float(h),float(k),float(x),float(y),r1))\n",
        "        DrawCircle(float(h),float(k),float(x),float(y),r1)\n",
        "    \n",
        "    except ValueError: \n",
        "        sys.exit(\"Invalid input. You have not entered x,y coordinates separated by a comma.\\n Program ends.\")\n",
        "               \n",
        "if __name__== \"__main__\" :\n",
        "    main()"
      ],
      "execution_count": null,
      "outputs": [
        {
          "output_type": "stream",
          "text": [
            "Enter x,y cirlce center' coordinates separated by a comma: -1,-1\n",
            "Enter h,k cirlce point's coordinates separated by a comma: 0,0\n",
            "Enter the 1st circle's radius: 0.5\n",
            "False\n"
          ],
          "name": "stdout"
        },
        {
          "output_type": "display_data",
          "data": {
            "image/png": "[encoded data removed]",
            "text/plain": [
              "<Figure size 432x288 with 1 Axes>"
            ]
          },
          "metadata": {
            "tags": [],
            "needs_background": "light"
          }
        }
      ]
    }
  ]
}